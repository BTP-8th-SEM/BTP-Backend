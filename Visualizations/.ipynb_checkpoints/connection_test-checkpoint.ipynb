{
 "cells": [
  {
   "cell_type": "code",
   "execution_count": 3,
   "id": "7c56ef02",
   "metadata": {
    "scrolled": true
   },
   "outputs": [],
   "source": [
    "import pandas as pd\n",
    "import mysql.connector"
   ]
  },
  {
   "cell_type": "code",
   "execution_count": 2,
   "id": "5220ff66",
   "metadata": {
    "collapsed": true
   },
   "outputs": [
    {
     "name": "stdout",
     "output_type": "stream",
     "text": [
      "Collecting mysql-connector-python\n",
      "  Downloading mysql_connector_python-8.0.33-cp38-cp38-win_amd64.whl (9.6 MB)\n",
      "Requirement already satisfied: protobuf<=3.20.3,>=3.11.0 in g:\\anaconda\\lib\\site-packages (from mysql-connector-python) (3.20.3)\n",
      "Installing collected packages: mysql-connector-python\n",
      "Successfully installed mysql-connector-python-8.0.33\n"
     ]
    }
   ],
   "source": [
    "# !pip install mysql-connector-python"
   ]
  },
  {
   "cell_type": "code",
   "execution_count": 4,
   "id": "0c880c3f",
   "metadata": {},
   "outputs": [],
   "source": [
    "# Set up a MySQL connection\n",
    "cnx = mysql.connector.connect(user='root', password='my123sql',\n",
    "                              host='localhost', database='intest')\n"
   ]
  },
  {
   "cell_type": "code",
   "execution_count": null,
   "id": "586defa7",
   "metadata": {},
   "outputs": [],
   "source": [
    "# Define the SQL query\n",
    "query_user = \"SELECT * FROM table_name\"\n",
    "\n",
    "# Load data into a Pandas dataframe\n",
    "df = pd.read_sql(query, cnx)"
   ]
  },
  {
   "cell_type": "code",
   "execution_count": 5,
   "id": "308c22bc",
   "metadata": {},
   "outputs": [],
   "source": [
    "# Close the MySQL connection\n",
    "cnx.close()"
   ]
  }
 ],
 "metadata": {
  "kernelspec": {
   "display_name": "Python 3",
   "language": "python",
   "name": "python3"
  },
  "language_info": {
   "codemirror_mode": {
    "name": "ipython",
    "version": 3
   },
   "file_extension": ".py",
   "mimetype": "text/x-python",
   "name": "python",
   "nbconvert_exporter": "python",
   "pygments_lexer": "ipython3",
   "version": "3.8.8"
  }
 },
 "nbformat": 4,
 "nbformat_minor": 5
}
