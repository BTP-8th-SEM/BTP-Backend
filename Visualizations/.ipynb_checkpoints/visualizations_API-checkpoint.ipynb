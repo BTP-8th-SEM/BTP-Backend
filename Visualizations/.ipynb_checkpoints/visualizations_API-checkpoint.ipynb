{
 "cells": [
  {
   "cell_type": "code",
   "execution_count": 1,
   "id": "069edfe2",
   "metadata": {
    "scrolled": true
   },
   "outputs": [],
   "source": [
    "import pandas as pd\n",
    "import mysql.connector"
   ]
  },
  {
   "cell_type": "code",
   "execution_count": 2,
   "id": "8c63043d",
   "metadata": {},
   "outputs": [],
   "source": [
    "# !pip install mysql-connector-python"
   ]
  },
  {
   "cell_type": "code",
   "execution_count": 3,
   "id": "653f03d5",
   "metadata": {},
   "outputs": [],
   "source": [
    "# Set up a MySQL connection\n",
    "cnx = mysql.connector.connect(user='root', password='my123sql',\n",
    "                              host='localhost', database='intest')"
   ]
  },
  {
   "cell_type": "code",
   "execution_count": 4,
   "id": "bc1967cc",
   "metadata": {
    "scrolled": true
   },
   "outputs": [
    {
     "name": "stdout",
     "output_type": "stream",
     "text": [
      "UserDB:(5, 7)\n",
      "TestDB:(1, 9)\n",
      "OptionsDB:(3, 6)\n",
      "ResponsesDB:(12, 6)\n"
     ]
    }
   ],
   "source": [
    "query_user = \"SELECT * FROM users\"\n",
    "df_user = pd.read_sql(query_user, cnx)\n",
    "if df_user.size>0:\n",
    "    print(\"UserDB:\"+str(df_user.shape))\n",
    "\n",
    "query_test = \"SELECT * FROM test_db\"\n",
    "df_test= pd.read_sql(query_test, cnx)\n",
    "if df_test.size>0:\n",
    "    print(\"TestDB:\"+str(df_test.shape))\n",
    "\n",
    "query_questions = \"SELECT * FROM questions\"\n",
    "df_questions= pd.read_sql(query_questions, cnx)\n",
    "if df_questions.size>0:\n",
    "    print(\"QuestionsDB:\"+str(df_questions.shape))\n",
    "\n",
    "query_options = \"SELECT * FROM mcq_options\"\n",
    "df_options= pd.read_sql(query_options, cnx)\n",
    "if df_options.size>0:\n",
    "    print(\"OptionsDB:\"+str(df_options.shape))\n",
    "\n",
    "query_responses = \"SELECT * FROM responses\"\n",
    "df_responses= pd.read_sql(query_responses, cnx)\n",
    "if df_responses.size>0:\n",
    "    print(\"ResponsesDB:\"+str(df_responses.shape))\n",
    "\n",
    "query_olap_test = \"SELECT * FROM olap_test\"\n",
    "df_olap_test= pd.read_sql(query_olap_test, cnx)\n",
    "# if df_olap_test.size>0:\n",
    "print(\"Olap_testDB:\"+str(df_olap_test.shape))\n",
    "    \n",
    "query_olap_question = \"SELECT * FROM olap_question\"\n",
    "df_olap_question= pd.read_sql(query_olap_question, cnx)\n",
    "# if df_olap_question.size>0:\n",
    "print(\"Olap_questionDB:\"+str(df_olap_question.shape))"
   ]
  },
  {
   "cell_type": "code",
   "execution_count": 5,
   "id": "d849ff8c",
   "metadata": {},
   "outputs": [],
   "source": [
    "# Close the MySQL connection\n",
    "cnx.close()"
   ]
  }
 ],
 "metadata": {
  "kernelspec": {
   "display_name": "Python 3",
   "language": "python",
   "name": "python3"
  },
  "language_info": {
   "codemirror_mode": {
    "name": "ipython",
    "version": 3
   },
   "file_extension": ".py",
   "mimetype": "text/x-python",
   "name": "python",
   "nbconvert_exporter": "python",
   "pygments_lexer": "ipython3",
   "version": "3.8.8"
  }
 },
 "nbformat": 4,
 "nbformat_minor": 5
}
